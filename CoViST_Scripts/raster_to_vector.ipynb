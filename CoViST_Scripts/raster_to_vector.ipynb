{
 "cells": [
  {
   "cell_type": "code",
   "execution_count": 18,
   "metadata": {},
   "outputs": [
    {
     "data": {
      "text/plain": [
       "['H:\\\\\\\\variable.ini']"
      ]
     },
     "execution_count": 18,
     "metadata": {},
     "output_type": "execute_result"
    }
   ],
   "source": [
    "import arcpy\n",
    "from arcpy.sa import *\n",
    "import os\n",
    "import sys\n",
    "import numpy as np\n",
    "from pathlib import Path\n",
    "\n",
    "import configparser\n",
    "\n",
    "config = configparser.ConfigParser()\n",
    "config.read(r\"H:\\\\variable.ini\")\n",
    "\n"
   ]
  },
  {
   "cell_type": "code",
   "execution_count": 19,
   "metadata": {},
   "outputs": [],
   "source": [
    "arcpy.env.workspace = config['PATH']['workspace_path']\n",
    "\n",
    "arcpy.env.overwriteOutput = True\n",
    "\n",
    "\n",
    "# Define the directory containing the TIFF files\n",
    "tiff_directory = config['PATH']['tiff_directory']\n",
    "\n",
    "path_to_raster=config['PATH']['input_path']\n",
    "output=config['VARIABLE']['output_name']\n"
   ]
  },
  {
   "cell_type": "code",
   "execution_count": 22,
   "metadata": {},
   "outputs": [],
   "source": [
    "#print(\"Feature Classes in the Geodatabase:\")\n",
    "#for feature_class in feature_classes:\n",
    "#   print(feature_class)\n",
    "\n",
    "def tiff_to_polygon(tiff_path,output_polygon_path,simplify=False):\n",
    "    \"\"\"\n",
    "    Converts a TIFF file to a polygon vector using ArcPy.\n",
    "\n",
    "    Parameters:\n",
    "    - tiff_path: The file path of the TIFF file.\n",
    "    - output_polygon_path: The path where the output polygon will be saved.\n",
    "    - simplify: Boolean indicating whether to simplify the polygons.\n",
    "    \"\"\"\n",
    "    try:\n",
    "        # Check out the ArcGIS Spatial Analyst extension license\n",
    "        arcpy.CheckOutExtension(\"Spatial\")\n",
    "\n",
    "        \n",
    "        print(f\"checked extentions\")\n",
    "        # load raster\n",
    "        raster = arcpy.Raster(tiff_path)\n",
    "\n",
    "        #mutiple each cell by 1000000\n",
    "        multiplied_raster=raster*1000000\n",
    "        #multiplied_raster.save(\"name the feature that you want to save\")\n",
    "        #Convert to integer\n",
    "        int_raster=Int(multiplied_raster)\n",
    "\n",
    "        # Convert the raster to a polygon feature class\n",
    "        arcpy.RasterToPolygon_conversion(int_raster, output_polygon_path, simplify, \"VALUE\")\n",
    "        \n",
    "        print(f\"Polygon vector created successfully at {output_polygon_path}\")\n",
    "        \n",
    "        #divide by 1000000 \n",
    "    \n",
    "        # Set the field on which to perform the calculation\n",
    "        field_name = \"gridcode\"\n",
    "\n",
    "        # Define the expression to divide each value by 1,000,000\n",
    "        # The '!field_name!' syntax is used to reference the field values in the calculation\n",
    "        expression = f\"!{field_name}! / 1000000\"\n",
    "\n",
    "        # Perform the field calculation\n",
    "        arcpy.CalculateField_management(in_table=output, field=field_name, expression=expression, expression_type=\"PYTHON3\")\n",
    "        print(\"Field calculation completed successfully.\")\n",
    "        \n",
    "        # Specify the name of the field \n",
    "        old_field_name = \"gridcode\"\n",
    "\n",
    "        # Specify the new name for the field\n",
    "        new_field_name = \"value\"\n",
    "\n",
    "        # Specify the new alias for the field\n",
    "        new_field_alias = \"value\"\n",
    "\n",
    "        # Use the AlterField_management tool to rename the field and change its alias\n",
    "        arcpy.AlterField_management(in_table=output, field=old_field_name, \n",
    "                                    new_field_name=new_field_name, new_field_alias=new_field_alias)\n",
    "\n",
    "        print(f\"Field '{old_field_name}' has been renamed to '{new_field_name}' with the alias '{new_field_alias}'.\")\n",
    "\n",
    "\n",
    "        \n",
    "\n",
    "    except Exception as e:\n",
    "        print(f\"Error converting TIFF to polygon: {e}\")\n",
    "    finally:\n",
    "        # Check in the ArcGIS Spatial Analyst extension license\n",
    "        arcpy.CheckInExtension(\"Spatial\")\n",
    "\n"
   ]
  },
  {
   "cell_type": "code",
   "execution_count": 7,
   "metadata": {},
   "outputs": [
    {
     "name": "stdout",
     "output_type": "stream",
     "text": [
      "checked extentions\n",
      "Polygon vector created successfully at Skagit_heat_map_updated\n",
      "Field calculation completed successfully.\n",
      "Field 'gridcode' has been renamed to 'value' with the alias 'value'.\n"
     ]
    }
   ],
   "source": [
    "tiff_to_polygon(path_to_raster,output,simplify=False)\n",
    "\n"
   ]
  },
  {
   "cell_type": "code",
   "execution_count": 23,
   "metadata": {},
   "outputs": [],
   "source": [
    "#for filename in os.listdir(tiff_directory):\n",
    "   # if filename.endswith(\".tif\"):\n",
    "        # Construct the full file path\n",
    "       # tiff_path = os.path.join(tiff_directory, filename)\n",
    "\n",
    "        #print(tiff_path)\n",
    "\n",
    "        # Generate a unique output path for the polygon\n",
    "       # output_name = os.path.splitext(filename)[0] + \"_polygon\"\n",
    "        \n",
    "      #  output_polygon_path = os.path.join(arcpy.env.workspace, output_name)\n",
    "       # print(output_polygon_path)\n",
    "\n",
    "        # Call the conversion function\n",
    "      #  tiff_to_polygon(tiff_path, output_polygon_path,simplify=False)\n",
    "\n",
    "      #  print(f\"Processed {filename}\")\n",
    "\n",
    "\n",
    "#not working yet"
   ]
  }
 ],
 "metadata": {
  "kernelspec": {
   "display_name": "Python 3",
   "language": "python",
   "name": "python3"
  },
  "language_info": {
   "codemirror_mode": {
    "name": "ipython",
    "version": 3
   },
   "file_extension": ".py",
   "mimetype": "text/x-python",
   "name": "python",
   "nbconvert_exporter": "python",
   "pygments_lexer": "ipython3",
   "version": "3.9.18"
  },
  "orig_nbformat": 4
 },
 "nbformat": 4,
 "nbformat_minor": 2
}
